{
  "cells": [
    {
      "cell_type": "markdown",
      "metadata": {
        "id": "view-in-github",
        "colab_type": "text"
      },
      "source": [
        "<a href=\"https://colab.research.google.com/github/chaewoncutie/CCMACLRL_EXERCISES_COM222ML/blob/main/Exercise5.ipynb\" target=\"_parent\"><img src=\"https://colab.research.google.com/assets/colab-badge.svg\" alt=\"Open In Colab\"/></a>"
      ]
    },
    {
      "cell_type": "markdown",
      "source": [
        "# Exercise 5"
      ],
      "metadata": {
        "id": "DzE0a2wse5_X"
      }
    },
    {
      "cell_type": "code",
      "execution_count": 668,
      "metadata": {
        "id": "1jGZ4ic7DRL-"
      },
      "outputs": [],
      "source": [
        "import pandas as pd\n",
        "import matplotlib.pyplot as plt\n",
        "import seaborn as sns\n",
        "from sklearn.linear_model import LinearRegression\n",
        "from scipy.stats import pearsonr\n",
        "import statsmodels.api as sm"
      ]
    },
    {
      "cell_type": "code",
      "execution_count": 669,
      "metadata": {
        "id": "ZWwABN_vDXoV"
      },
      "outputs": [],
      "source": [
        "df = pd.read_excel('traveldata.xlsx')"
      ]
    },
    {
      "cell_type": "code",
      "execution_count": 670,
      "metadata": {
        "id": "6uh5EWIaDaum",
        "colab": {
          "base_uri": "https://localhost:8080/",
          "height": 363
        },
        "outputId": "b8275072-0009-4b96-eba0-6b616f836918"
      },
      "outputs": [
        {
          "output_type": "execute_result",
          "data": {
            "text/plain": [
              "   Miles Traveled  Number of Deliveries  Gas Price  Travel Time\n",
              "0              89                     4       3.84          7.0\n",
              "1              66                     1       3.19          5.4\n",
              "2              78                     3       3.78          6.6\n",
              "3             111                     6       3.89          7.4\n",
              "4              44                     1       3.57          4.8\n",
              "5              77                     3       3.57          6.4\n",
              "6              80                     3       3.03          7.0\n",
              "7              66                     2       3.51          5.6\n",
              "8             109                     5       3.54          7.3\n",
              "9              76                     3       3.25          6.4"
            ],
            "text/html": [
              "\n",
              "  <div id=\"df-ee83eba9-b615-474f-b1cb-694f8eb0f066\" class=\"colab-df-container\">\n",
              "    <div>\n",
              "<style scoped>\n",
              "    .dataframe tbody tr th:only-of-type {\n",
              "        vertical-align: middle;\n",
              "    }\n",
              "\n",
              "    .dataframe tbody tr th {\n",
              "        vertical-align: top;\n",
              "    }\n",
              "\n",
              "    .dataframe thead th {\n",
              "        text-align: right;\n",
              "    }\n",
              "</style>\n",
              "<table border=\"1\" class=\"dataframe\">\n",
              "  <thead>\n",
              "    <tr style=\"text-align: right;\">\n",
              "      <th></th>\n",
              "      <th>Miles Traveled</th>\n",
              "      <th>Number of Deliveries</th>\n",
              "      <th>Gas Price</th>\n",
              "      <th>Travel Time</th>\n",
              "    </tr>\n",
              "  </thead>\n",
              "  <tbody>\n",
              "    <tr>\n",
              "      <th>0</th>\n",
              "      <td>89</td>\n",
              "      <td>4</td>\n",
              "      <td>3.84</td>\n",
              "      <td>7.0</td>\n",
              "    </tr>\n",
              "    <tr>\n",
              "      <th>1</th>\n",
              "      <td>66</td>\n",
              "      <td>1</td>\n",
              "      <td>3.19</td>\n",
              "      <td>5.4</td>\n",
              "    </tr>\n",
              "    <tr>\n",
              "      <th>2</th>\n",
              "      <td>78</td>\n",
              "      <td>3</td>\n",
              "      <td>3.78</td>\n",
              "      <td>6.6</td>\n",
              "    </tr>\n",
              "    <tr>\n",
              "      <th>3</th>\n",
              "      <td>111</td>\n",
              "      <td>6</td>\n",
              "      <td>3.89</td>\n",
              "      <td>7.4</td>\n",
              "    </tr>\n",
              "    <tr>\n",
              "      <th>4</th>\n",
              "      <td>44</td>\n",
              "      <td>1</td>\n",
              "      <td>3.57</td>\n",
              "      <td>4.8</td>\n",
              "    </tr>\n",
              "    <tr>\n",
              "      <th>5</th>\n",
              "      <td>77</td>\n",
              "      <td>3</td>\n",
              "      <td>3.57</td>\n",
              "      <td>6.4</td>\n",
              "    </tr>\n",
              "    <tr>\n",
              "      <th>6</th>\n",
              "      <td>80</td>\n",
              "      <td>3</td>\n",
              "      <td>3.03</td>\n",
              "      <td>7.0</td>\n",
              "    </tr>\n",
              "    <tr>\n",
              "      <th>7</th>\n",
              "      <td>66</td>\n",
              "      <td>2</td>\n",
              "      <td>3.51</td>\n",
              "      <td>5.6</td>\n",
              "    </tr>\n",
              "    <tr>\n",
              "      <th>8</th>\n",
              "      <td>109</td>\n",
              "      <td>5</td>\n",
              "      <td>3.54</td>\n",
              "      <td>7.3</td>\n",
              "    </tr>\n",
              "    <tr>\n",
              "      <th>9</th>\n",
              "      <td>76</td>\n",
              "      <td>3</td>\n",
              "      <td>3.25</td>\n",
              "      <td>6.4</td>\n",
              "    </tr>\n",
              "  </tbody>\n",
              "</table>\n",
              "</div>\n",
              "    <div class=\"colab-df-buttons\">\n",
              "\n",
              "  <div class=\"colab-df-container\">\n",
              "    <button class=\"colab-df-convert\" onclick=\"convertToInteractive('df-ee83eba9-b615-474f-b1cb-694f8eb0f066')\"\n",
              "            title=\"Convert this dataframe to an interactive table.\"\n",
              "            style=\"display:none;\">\n",
              "\n",
              "  <svg xmlns=\"http://www.w3.org/2000/svg\" height=\"24px\" viewBox=\"0 -960 960 960\">\n",
              "    <path d=\"M120-120v-720h720v720H120Zm60-500h600v-160H180v160Zm220 220h160v-160H400v160Zm0 220h160v-160H400v160ZM180-400h160v-160H180v160Zm440 0h160v-160H620v160ZM180-180h160v-160H180v160Zm440 0h160v-160H620v160Z\"/>\n",
              "  </svg>\n",
              "    </button>\n",
              "\n",
              "  <style>\n",
              "    .colab-df-container {\n",
              "      display:flex;\n",
              "      gap: 12px;\n",
              "    }\n",
              "\n",
              "    .colab-df-convert {\n",
              "      background-color: #E8F0FE;\n",
              "      border: none;\n",
              "      border-radius: 50%;\n",
              "      cursor: pointer;\n",
              "      display: none;\n",
              "      fill: #1967D2;\n",
              "      height: 32px;\n",
              "      padding: 0 0 0 0;\n",
              "      width: 32px;\n",
              "    }\n",
              "\n",
              "    .colab-df-convert:hover {\n",
              "      background-color: #E2EBFA;\n",
              "      box-shadow: 0px 1px 2px rgba(60, 64, 67, 0.3), 0px 1px 3px 1px rgba(60, 64, 67, 0.15);\n",
              "      fill: #174EA6;\n",
              "    }\n",
              "\n",
              "    .colab-df-buttons div {\n",
              "      margin-bottom: 4px;\n",
              "    }\n",
              "\n",
              "    [theme=dark] .colab-df-convert {\n",
              "      background-color: #3B4455;\n",
              "      fill: #D2E3FC;\n",
              "    }\n",
              "\n",
              "    [theme=dark] .colab-df-convert:hover {\n",
              "      background-color: #434B5C;\n",
              "      box-shadow: 0px 1px 3px 1px rgba(0, 0, 0, 0.15);\n",
              "      filter: drop-shadow(0px 1px 2px rgba(0, 0, 0, 0.3));\n",
              "      fill: #FFFFFF;\n",
              "    }\n",
              "  </style>\n",
              "\n",
              "    <script>\n",
              "      const buttonEl =\n",
              "        document.querySelector('#df-ee83eba9-b615-474f-b1cb-694f8eb0f066 button.colab-df-convert');\n",
              "      buttonEl.style.display =\n",
              "        google.colab.kernel.accessAllowed ? 'block' : 'none';\n",
              "\n",
              "      async function convertToInteractive(key) {\n",
              "        const element = document.querySelector('#df-ee83eba9-b615-474f-b1cb-694f8eb0f066');\n",
              "        const dataTable =\n",
              "          await google.colab.kernel.invokeFunction('convertToInteractive',\n",
              "                                                    [key], {});\n",
              "        if (!dataTable) return;\n",
              "\n",
              "        const docLinkHtml = 'Like what you see? Visit the ' +\n",
              "          '<a target=\"_blank\" href=https://colab.research.google.com/notebooks/data_table.ipynb>data table notebook</a>'\n",
              "          + ' to learn more about interactive tables.';\n",
              "        element.innerHTML = '';\n",
              "        dataTable['output_type'] = 'display_data';\n",
              "        await google.colab.output.renderOutput(dataTable, element);\n",
              "        const docLink = document.createElement('div');\n",
              "        docLink.innerHTML = docLinkHtml;\n",
              "        element.appendChild(docLink);\n",
              "      }\n",
              "    </script>\n",
              "  </div>\n",
              "\n",
              "\n",
              "<div id=\"df-b6bbb588-3ba5-4ca8-a9a7-de1b18b8ccdc\">\n",
              "  <button class=\"colab-df-quickchart\" onclick=\"quickchart('df-b6bbb588-3ba5-4ca8-a9a7-de1b18b8ccdc')\"\n",
              "            title=\"Suggest charts\"\n",
              "            style=\"display:none;\">\n",
              "\n",
              "<svg xmlns=\"http://www.w3.org/2000/svg\" height=\"24px\"viewBox=\"0 0 24 24\"\n",
              "     width=\"24px\">\n",
              "    <g>\n",
              "        <path d=\"M19 3H5c-1.1 0-2 .9-2 2v14c0 1.1.9 2 2 2h14c1.1 0 2-.9 2-2V5c0-1.1-.9-2-2-2zM9 17H7v-7h2v7zm4 0h-2V7h2v10zm4 0h-2v-4h2v4z\"/>\n",
              "    </g>\n",
              "</svg>\n",
              "  </button>\n",
              "\n",
              "<style>\n",
              "  .colab-df-quickchart {\n",
              "      --bg-color: #E8F0FE;\n",
              "      --fill-color: #1967D2;\n",
              "      --hover-bg-color: #E2EBFA;\n",
              "      --hover-fill-color: #174EA6;\n",
              "      --disabled-fill-color: #AAA;\n",
              "      --disabled-bg-color: #DDD;\n",
              "  }\n",
              "\n",
              "  [theme=dark] .colab-df-quickchart {\n",
              "      --bg-color: #3B4455;\n",
              "      --fill-color: #D2E3FC;\n",
              "      --hover-bg-color: #434B5C;\n",
              "      --hover-fill-color: #FFFFFF;\n",
              "      --disabled-bg-color: #3B4455;\n",
              "      --disabled-fill-color: #666;\n",
              "  }\n",
              "\n",
              "  .colab-df-quickchart {\n",
              "    background-color: var(--bg-color);\n",
              "    border: none;\n",
              "    border-radius: 50%;\n",
              "    cursor: pointer;\n",
              "    display: none;\n",
              "    fill: var(--fill-color);\n",
              "    height: 32px;\n",
              "    padding: 0;\n",
              "    width: 32px;\n",
              "  }\n",
              "\n",
              "  .colab-df-quickchart:hover {\n",
              "    background-color: var(--hover-bg-color);\n",
              "    box-shadow: 0 1px 2px rgba(60, 64, 67, 0.3), 0 1px 3px 1px rgba(60, 64, 67, 0.15);\n",
              "    fill: var(--button-hover-fill-color);\n",
              "  }\n",
              "\n",
              "  .colab-df-quickchart-complete:disabled,\n",
              "  .colab-df-quickchart-complete:disabled:hover {\n",
              "    background-color: var(--disabled-bg-color);\n",
              "    fill: var(--disabled-fill-color);\n",
              "    box-shadow: none;\n",
              "  }\n",
              "\n",
              "  .colab-df-spinner {\n",
              "    border: 2px solid var(--fill-color);\n",
              "    border-color: transparent;\n",
              "    border-bottom-color: var(--fill-color);\n",
              "    animation:\n",
              "      spin 1s steps(1) infinite;\n",
              "  }\n",
              "\n",
              "  @keyframes spin {\n",
              "    0% {\n",
              "      border-color: transparent;\n",
              "      border-bottom-color: var(--fill-color);\n",
              "      border-left-color: var(--fill-color);\n",
              "    }\n",
              "    20% {\n",
              "      border-color: transparent;\n",
              "      border-left-color: var(--fill-color);\n",
              "      border-top-color: var(--fill-color);\n",
              "    }\n",
              "    30% {\n",
              "      border-color: transparent;\n",
              "      border-left-color: var(--fill-color);\n",
              "      border-top-color: var(--fill-color);\n",
              "      border-right-color: var(--fill-color);\n",
              "    }\n",
              "    40% {\n",
              "      border-color: transparent;\n",
              "      border-right-color: var(--fill-color);\n",
              "      border-top-color: var(--fill-color);\n",
              "    }\n",
              "    60% {\n",
              "      border-color: transparent;\n",
              "      border-right-color: var(--fill-color);\n",
              "    }\n",
              "    80% {\n",
              "      border-color: transparent;\n",
              "      border-right-color: var(--fill-color);\n",
              "      border-bottom-color: var(--fill-color);\n",
              "    }\n",
              "    90% {\n",
              "      border-color: transparent;\n",
              "      border-bottom-color: var(--fill-color);\n",
              "    }\n",
              "  }\n",
              "</style>\n",
              "\n",
              "  <script>\n",
              "    async function quickchart(key) {\n",
              "      const quickchartButtonEl =\n",
              "        document.querySelector('#' + key + ' button');\n",
              "      quickchartButtonEl.disabled = true;  // To prevent multiple clicks.\n",
              "      quickchartButtonEl.classList.add('colab-df-spinner');\n",
              "      try {\n",
              "        const charts = await google.colab.kernel.invokeFunction(\n",
              "            'suggestCharts', [key], {});\n",
              "      } catch (error) {\n",
              "        console.error('Error during call to suggestCharts:', error);\n",
              "      }\n",
              "      quickchartButtonEl.classList.remove('colab-df-spinner');\n",
              "      quickchartButtonEl.classList.add('colab-df-quickchart-complete');\n",
              "    }\n",
              "    (() => {\n",
              "      let quickchartButtonEl =\n",
              "        document.querySelector('#df-b6bbb588-3ba5-4ca8-a9a7-de1b18b8ccdc button');\n",
              "      quickchartButtonEl.style.display =\n",
              "        google.colab.kernel.accessAllowed ? 'block' : 'none';\n",
              "    })();\n",
              "  </script>\n",
              "</div>\n",
              "\n",
              "  <div id=\"id_bcff1e78-3c42-474e-b196-515db503426a\">\n",
              "    <style>\n",
              "      .colab-df-generate {\n",
              "        background-color: #E8F0FE;\n",
              "        border: none;\n",
              "        border-radius: 50%;\n",
              "        cursor: pointer;\n",
              "        display: none;\n",
              "        fill: #1967D2;\n",
              "        height: 32px;\n",
              "        padding: 0 0 0 0;\n",
              "        width: 32px;\n",
              "      }\n",
              "\n",
              "      .colab-df-generate:hover {\n",
              "        background-color: #E2EBFA;\n",
              "        box-shadow: 0px 1px 2px rgba(60, 64, 67, 0.3), 0px 1px 3px 1px rgba(60, 64, 67, 0.15);\n",
              "        fill: #174EA6;\n",
              "      }\n",
              "\n",
              "      [theme=dark] .colab-df-generate {\n",
              "        background-color: #3B4455;\n",
              "        fill: #D2E3FC;\n",
              "      }\n",
              "\n",
              "      [theme=dark] .colab-df-generate:hover {\n",
              "        background-color: #434B5C;\n",
              "        box-shadow: 0px 1px 3px 1px rgba(0, 0, 0, 0.15);\n",
              "        filter: drop-shadow(0px 1px 2px rgba(0, 0, 0, 0.3));\n",
              "        fill: #FFFFFF;\n",
              "      }\n",
              "    </style>\n",
              "    <button class=\"colab-df-generate\" onclick=\"generateWithVariable('df')\"\n",
              "            title=\"Generate code using this dataframe.\"\n",
              "            style=\"display:none;\">\n",
              "\n",
              "  <svg xmlns=\"http://www.w3.org/2000/svg\" height=\"24px\"viewBox=\"0 0 24 24\"\n",
              "       width=\"24px\">\n",
              "    <path d=\"M7,19H8.4L18.45,9,17,7.55,7,17.6ZM5,21V16.75L18.45,3.32a2,2,0,0,1,2.83,0l1.4,1.43a1.91,1.91,0,0,1,.58,1.4,1.91,1.91,0,0,1-.58,1.4L9.25,21ZM18.45,9,17,7.55Zm-12,3A5.31,5.31,0,0,0,4.9,8.1,5.31,5.31,0,0,0,1,6.5,5.31,5.31,0,0,0,4.9,4.9,5.31,5.31,0,0,0,6.5,1,5.31,5.31,0,0,0,8.1,4.9,5.31,5.31,0,0,0,12,6.5,5.46,5.46,0,0,0,6.5,12Z\"/>\n",
              "  </svg>\n",
              "    </button>\n",
              "    <script>\n",
              "      (() => {\n",
              "      const buttonEl =\n",
              "        document.querySelector('#id_bcff1e78-3c42-474e-b196-515db503426a button.colab-df-generate');\n",
              "      buttonEl.style.display =\n",
              "        google.colab.kernel.accessAllowed ? 'block' : 'none';\n",
              "\n",
              "      buttonEl.onclick = () => {\n",
              "        google.colab.notebook.generateWithVariable('df');\n",
              "      }\n",
              "      })();\n",
              "    </script>\n",
              "  </div>\n",
              "\n",
              "    </div>\n",
              "  </div>\n"
            ],
            "application/vnd.google.colaboratory.intrinsic+json": {
              "type": "dataframe",
              "variable_name": "df",
              "summary": "{\n  \"name\": \"df\",\n  \"rows\": 10,\n  \"fields\": [\n    {\n      \"column\": \"Miles Traveled\",\n      \"properties\": {\n        \"dtype\": \"number\",\n        \"std\": 19,\n        \"min\": 44,\n        \"max\": 111,\n        \"num_unique_values\": 9,\n        \"samples\": [\n          109,\n          66,\n          77\n        ],\n        \"semantic_type\": \"\",\n        \"description\": \"\"\n      }\n    },\n    {\n      \"column\": \"Number of Deliveries\",\n      \"properties\": {\n        \"dtype\": \"number\",\n        \"std\": 1,\n        \"min\": 1,\n        \"max\": 6,\n        \"num_unique_values\": 6,\n        \"samples\": [\n          4,\n          1,\n          5\n        ],\n        \"semantic_type\": \"\",\n        \"description\": \"\"\n      }\n    },\n    {\n      \"column\": \"Gas Price\",\n      \"properties\": {\n        \"dtype\": \"number\",\n        \"std\": 0.2856201829158592,\n        \"min\": 3.03,\n        \"max\": 3.89,\n        \"num_unique_values\": 9,\n        \"samples\": [\n          3.54,\n          3.19,\n          3.03\n        ],\n        \"semantic_type\": \"\",\n        \"description\": \"\"\n      }\n    },\n    {\n      \"column\": \"Travel Time\",\n      \"properties\": {\n        \"dtype\": \"number\",\n        \"std\": 0.8672433978480961,\n        \"min\": 4.8,\n        \"max\": 7.4,\n        \"num_unique_values\": 8,\n        \"samples\": [\n          5.4,\n          6.4,\n          7.0\n        ],\n        \"semantic_type\": \"\",\n        \"description\": \"\"\n      }\n    }\n  ]\n}"
            }
          },
          "metadata": {},
          "execution_count": 670
        }
      ],
      "source": [
        "df"
      ]
    },
    {
      "cell_type": "markdown",
      "metadata": {
        "id": "0e7F0WCne-8o"
      },
      "source": [
        "## A. Correlation"
      ]
    },
    {
      "cell_type": "markdown",
      "metadata": {
        "id": "U08ybiFgMbQ7"
      },
      "source": [
        "### Check the relationships between each independent variable and the dependent variable using scatterplots and correlations."
      ]
    },
    {
      "cell_type": "markdown",
      "source": [
        "1. Create scatter plot between miles traveled and travel time"
      ],
      "metadata": {
        "id": "wRYSx_gUbb3N"
      }
    },
    {
      "cell_type": "code",
      "execution_count": 671,
      "metadata": {
        "id": "h7_ZHYhYDuSe",
        "colab": {
          "base_uri": "https://localhost:8080/",
          "height": 451
        },
        "outputId": "2d0b8898-d8d6-4a85-825f-15272cd7519e"
      },
      "outputs": [
        {
          "output_type": "display_data",
          "data": {
            "text/plain": [
              "<Figure size 640x480 with 1 Axes>"
            ],
            "image/png": "[encoded data removed]"
          },
          "metadata": {}
        }
      ],
      "source": [
        "# put your answer here\n",
        "plt.scatter(df[\"Miles Traveled\"],\n",
        "            df[\"Travel Time\"])\n",
        "plt.xlabel(\"Miles Traveled\")\n",
        "plt.ylabel(\"Travel Time\")\n",
        "plt.show()"
      ]
    },
    {
      "cell_type": "markdown",
      "source": [
        "2. Create scatter plot between number of deliveries and travel time"
      ],
      "metadata": {
        "id": "VNOMGC4tblzn"
      }
    },
    {
      "cell_type": "code",
      "execution_count": 672,
      "metadata": {
        "id": "4HE-5zP9EFx0",
        "colab": {
          "base_uri": "https://localhost:8080/",
          "height": 451
        },
        "outputId": "4efbacb4-e1b6-4b5a-abc5-638e1dd5b8d9"
      },
      "outputs": [
        {
          "output_type": "display_data",
          "data": {
            "text/plain": [
              "<Figure size 640x480 with 1 Axes>"
            ],
            "image/png": "[encoded data removed]"
          },
          "metadata": {}
        }
      ],
      "source": [
        "# put your answer here\n",
        "plt.scatter(df[\"Number of Deliveries\"],\n",
        "            df[\"Travel Time\"])\n",
        "plt.xlabel(\"Number of Deliveries\")\n",
        "plt.ylabel(\"Travel Time\")\n",
        "plt.show()"
      ]
    },
    {
      "cell_type": "markdown",
      "source": [
        "3. Create scatter plot between Gas Price and Travel time"
      ],
      "metadata": {
        "id": "MtjV8Zl5bquY"
      }
    },
    {
      "cell_type": "code",
      "execution_count": 673,
      "metadata": {
        "id": "kWtQ4QKcEeVU",
        "colab": {
          "base_uri": "https://localhost:8080/",
          "height": 451
        },
        "outputId": "2614d4a7-e988-425b-f6eb-0f6c315d83ba"
      },
      "outputs": [
        {
          "output_type": "display_data",
          "data": {
            "text/plain": [
              "<Figure size 640x480 with 1 Axes>"
            ],
            "image/png": "[encoded data removed]"
          },
          "metadata": {}
        }
      ],
      "source": [
        "# put your answer here\n",
        "plt.scatter(df[\"Gas Price\"],\n",
        "            df[\"Travel Time\"])\n",
        "plt.xlabel(\"Gas Price\")\n",
        "plt.ylabel(\"Travel Time\")\n",
        "plt.show()"
      ]
    },
    {
      "cell_type": "markdown",
      "source": [
        "4. Create a pairplot"
      ],
      "metadata": {
        "id": "Y-5Oe1aTb1ML"
      }
    },
    {
      "cell_type": "code",
      "execution_count": 674,
      "metadata": {
        "id": "8eJqX_RXTFCA",
        "colab": {
          "base_uri": "https://localhost:8080/",
          "height": 824
        },
        "outputId": "3a21bc7e-fc59-45d4-c76a-b7c7183f0c63"
      },
      "outputs": [
        {
          "output_type": "execute_result",
          "data": {
            "text/plain": [
              "<seaborn.axisgrid.PairGrid at 0x7872055d7a30>"
            ]
          },
          "metadata": {},
          "execution_count": 674
        },
        {
          "output_type": "display_data",
          "data": {
            "text/plain": [
              "<Figure size 800x800 with 20 Axes>"
            ],
            "image/png": "[encoded data removed]"
          },
          "metadata": {}
        }
      ],
      "source": [
        "# put your answer here\n",
        "sns.color_palette(\"husl\")\n",
        "sns.pairplot(data=df, height=2)"
      ]
    },
    {
      "cell_type": "markdown",
      "source": [
        "5. Calculate correlation coefficient between Miles Traveled and Travel Time"
      ],
      "metadata": {
        "id": "N2Cwy4EZb6CY"
      }
    },
    {
      "cell_type": "code",
      "execution_count": 675,
      "metadata": {
        "id": "z85FNuL3XykJ",
        "colab": {
          "base_uri": "https://localhost:8080/"
        },
        "outputId": "56bb77f8-cc86-4223-c7ee-43b9deb8d34f"
      },
      "outputs": [
        {
          "output_type": "stream",
          "name": "stdout",
          "text": [
            "Miles Traveled and Travel Time\n",
            "correlation coefficient: 0.928178500887476\n",
            "p=value: 0.00010667565429896801\n"
          ]
        }
      ],
      "source": [
        "# put your answer here\n",
        "result = pearsonr(df[\"Miles Traveled\"], df[\"Travel Time\"])\n",
        "print(\"Miles Traveled and Travel Time\")\n",
        "print(\"correlation coefficient:\", result[0])\n",
        "print(\"p=value:\", result[1])"
      ]
    },
    {
      "cell_type": "markdown",
      "source": [
        "6. Calculate correlation coefficient between Number of Deliveries and Travel Time"
      ],
      "metadata": {
        "id": "V0tmekGtcEBS"
      }
    },
    {
      "cell_type": "code",
      "execution_count": 676,
      "metadata": {
        "id": "V5GzGetxZyJj",
        "colab": {
          "base_uri": "https://localhost:8080/"
        },
        "outputId": "e01c946c-3e6e-4d5a-d108-2c6f56f40ada"
      },
      "outputs": [
        {
          "output_type": "stream",
          "name": "stdout",
          "text": [
            "Number of Deliveries and Travel Time\n",
            "correlation coefficient: 0.9164433964470268\n",
            "p=value: 0.00019260878342962958\n"
          ]
        }
      ],
      "source": [
        "# put your answer here\n",
        "# put your answer here\n",
        "result = pearsonr(df[\"Number of Deliveries\"], df[\"Travel Time\"])\n",
        "print(\"Number of Deliveries and Travel Time\")\n",
        "print(\"correlation coefficient:\", result[0])\n",
        "print(\"p=value:\", result[1])\n"
      ]
    },
    {
      "cell_type": "markdown",
      "source": [
        "7. Calculate correlation coefficient between Gas Price and Travel Time"
      ],
      "metadata": {
        "id": "zt28PWuxcPNm"
      }
    },
    {
      "cell_type": "code",
      "execution_count": 677,
      "metadata": {
        "id": "i4XIek0XaF0H",
        "colab": {
          "base_uri": "https://localhost:8080/"
        },
        "outputId": "dc8ef9f1-7b64-41ff-ef47-7febb1ad3c4e"
      },
      "outputs": [
        {
          "output_type": "stream",
          "name": "stdout",
          "text": [
            "Gas Price and Travel Time\n",
            "correlation coefficient: 0.2672115310193847\n",
            "p=value: 0.45545341268508166\n"
          ]
        }
      ],
      "source": [
        "# put your answer here\n",
        "result = pearsonr(df[\"Gas Price\"], df[\"Travel Time\"])\n",
        "print(\"Gas Price and Travel Time\")\n",
        "print(\"correlation coefficient:\", result[0])\n",
        "print(\"p=value:\", result[1])"
      ]
    },
    {
      "cell_type": "markdown",
      "metadata": {
        "id": "m0LFj6GwMmmT"
      },
      "source": [
        "### Check the relationships among the independent variables using scatterplots and correlations."
      ]
    },
    {
      "cell_type": "markdown",
      "source": [
        "8. Create scatter plot between Miles Traveled and Number of Deliveries."
      ],
      "metadata": {
        "id": "KzhtMwk9cgUc"
      }
    },
    {
      "cell_type": "code",
      "execution_count": 678,
      "metadata": {
        "id": "fkCUT89bMsOo",
        "colab": {
          "base_uri": "https://localhost:8080/",
          "height": 449
        },
        "outputId": "1622a115-a4cb-4be4-ff85-3fba66b0fd63"
      },
      "outputs": [
        {
          "output_type": "display_data",
          "data": {
            "text/plain": [
              "<Figure size 640x480 with 1 Axes>"
            ],
            "image/png": "[encoded data removed]"
          },
          "metadata": {}
        }
      ],
      "source": [
        "# put your answer here\n",
        "plt.scatter(df[\"Miles Traveled\"],\n",
        "            df[\"Number of Deliveries\"])\n",
        "\n",
        "plt.xlabel(\"Miles Traveled\")\n",
        "plt.ylabel(\"Number of Deliveries\")\n",
        "plt.show()"
      ]
    },
    {
      "cell_type": "markdown",
      "source": [
        "9. Create scatter plot between Miles traveled and Gas Price"
      ],
      "metadata": {
        "id": "9Vt6fAWHcpNs"
      }
    },
    {
      "cell_type": "code",
      "execution_count": 679,
      "metadata": {
        "id": "FkwyhaaxMwOE",
        "colab": {
          "base_uri": "https://localhost:8080/",
          "height": 449
        },
        "outputId": "94286509-1796-40b0-a71e-b9ea09e239b2"
      },
      "outputs": [
        {
          "output_type": "display_data",
          "data": {
            "text/plain": [
              "<Figure size 640x480 with 1 Axes>"
            ],
            "image/png": "[encoded data removed]"
          },
          "metadata": {}
        }
      ],
      "source": [
        "# put your answer here\n",
        "plt.scatter(df[\"Miles Traveled\"],\n",
        "            df[\"Gas Price\"])\n",
        "\n",
        "plt.xlabel(\"Miles Traveled\")\n",
        "plt.ylabel(\"Gas Price\")\n",
        "plt.show()"
      ]
    },
    {
      "cell_type": "markdown",
      "source": [
        "10. Create scatter plot between Number of Deliveries and Gas Price"
      ],
      "metadata": {
        "id": "MLIy3oRecvZi"
      }
    },
    {
      "cell_type": "code",
      "execution_count": 680,
      "metadata": {
        "id": "e0rICg_lM3c3",
        "colab": {
          "base_uri": "https://localhost:8080/",
          "height": 449
        },
        "outputId": "245c3b75-80af-48e2-bf5a-15e5d47be0a9"
      },
      "outputs": [
        {
          "output_type": "display_data",
          "data": {
            "text/plain": [
              "<Figure size 640x480 with 1 Axes>"
            ],
            "image/png": "[encoded data removed]"
          },
          "metadata": {}
        }
      ],
      "source": [
        "# put your answer here\n",
        "plt.scatter(df[\"Number of Deliveries\"],\n",
        "            df[\"Gas Price\"])\n",
        "\n",
        "plt.xlabel(\"Number of Deliveries\")\n",
        "plt.ylabel(\"Gas Price\")\n",
        "plt.show()"
      ]
    },
    {
      "cell_type": "markdown",
      "source": [
        "11. Calculate correlation coefficient between Miles Traveled and Number of Deliveries"
      ],
      "metadata": {
        "id": "SQsY1LuLc7hj"
      }
    },
    {
      "cell_type": "code",
      "execution_count": 681,
      "metadata": {
        "id": "Gg16fgdqbPgf",
        "colab": {
          "base_uri": "https://localhost:8080/"
        },
        "outputId": "e53bcbe4-95b8-4a77-8e87-e73c0259e265"
      },
      "outputs": [
        {
          "output_type": "stream",
          "name": "stdout",
          "text": [
            "Miles Traveled and Number of Deliveries\n",
            "correlation coefficient: 0.9558982066200347\n",
            "p=value: 1.5690314407660616e-05\n"
          ]
        }
      ],
      "source": [
        "# put your answer here\n",
        "result = pearsonr(df[\"Miles Traveled\"], df[\"Number of Deliveries\"])\n",
        "print(\"Miles Traveled and Number of Deliveries\")\n",
        "print(\"correlation coefficient:\", result[0])\n",
        "print(\"p=value:\", result[1])"
      ]
    },
    {
      "cell_type": "markdown",
      "source": [
        "12. Calculate correlation coefficient between Miles Traveled and Gas Price"
      ],
      "metadata": {
        "id": "gsHXLDy8dEd8"
      }
    },
    {
      "cell_type": "code",
      "execution_count": 682,
      "metadata": {
        "id": "1RLWTs82bb3t",
        "colab": {
          "base_uri": "https://localhost:8080/"
        },
        "outputId": "a6b84301-7eb5-4d28-9d48-6313a4249419"
      },
      "outputs": [
        {
          "output_type": "stream",
          "name": "stdout",
          "text": [
            "Miles Traveled and Gas Price\n",
            "correlation coefficient: 0.35579623354708517\n",
            "p=value: 0.31296405908178965\n"
          ]
        }
      ],
      "source": [
        "# put your answer here\n",
        "result = pearsonr(df[\"Miles Traveled\"], df[\"Gas Price\"])\n",
        "print(\"Miles Traveled and Gas Price\")\n",
        "print(\"correlation coefficient:\", result[0])\n",
        "print(\"p=value:\", result[1])"
      ]
    },
    {
      "cell_type": "markdown",
      "source": [
        "13. Calculate correlation coefficient between Number of Deliveries and Gas Price"
      ],
      "metadata": {
        "id": "B9_ehI_TdGjv"
      }
    },
    {
      "cell_type": "code",
      "execution_count": 683,
      "metadata": {
        "id": "schBTh7hbmmw",
        "colab": {
          "base_uri": "https://localhost:8080/"
        },
        "outputId": "e01feaff-c2db-45d0-ec07-141b8034cb77"
      },
      "outputs": [
        {
          "output_type": "stream",
          "name": "stdout",
          "text": [
            "Number of Deliveries and Gas Price\n",
            "correlation coefficient: 0.4982421647401633\n",
            "p=value: 0.142741207670319\n"
          ]
        }
      ],
      "source": [
        "# put your answer here\n",
        "result = pearsonr(df[\"Number of Deliveries\"], df[\"Gas Price\"])\n",
        "print(\"Number of Deliveries and Gas Price\")\n",
        "print(\"correlation coefficient:\", result[0])\n",
        "print(\"p=value:\", result[1])"
      ]
    },
    {
      "cell_type": "markdown",
      "metadata": {
        "id": "7vtm7gQFc8Am"
      },
      "source": [
        "### Correlation Summary"
      ]
    },
    {
      "cell_type": "markdown",
      "source": [
        "14. Create the correlation summary"
      ],
      "metadata": {
        "id": "9ZkVzcUndOjU"
      }
    },
    {
      "cell_type": "code",
      "execution_count": 684,
      "metadata": {
        "id": "ti0mQdimO_S5",
        "colab": {
          "base_uri": "https://localhost:8080/",
          "height": 175
        },
        "outputId": "8bbef4ae-b290-42f1-895f-08ffad4ddbd0"
      },
      "outputs": [
        {
          "output_type": "execute_result",
          "data": {
            "text/plain": [
              "<pandas.io.formats.style.Styler at 0x7871f733b940>"
            ],
            "text/html": [
              "<style type=\"text/css\">\n",
              "#T_3c423_row0_col0, #T_3c423_row1_col1, #T_3c423_row2_col2, #T_3c423_row3_col3 {\n",
              "  background-color: #5e4fa2;\n",
              "  color: #f1f1f1;\n",
              "}\n",
              "#T_3c423_row0_col1 {\n",
              "  background-color: #3880b9;\n",
              "  color: #f1f1f1;\n",
              "}\n",
              "#T_3c423_row0_col2 {\n",
              "  background-color: #da464d;\n",
              "  color: #f1f1f1;\n",
              "}\n",
              "#T_3c423_row0_col3 {\n",
              "  background-color: #3387bc;\n",
              "  color: #f1f1f1;\n",
              "}\n",
              "#T_3c423_row1_col0 {\n",
              "  background-color: #4175b4;\n",
              "  color: #f1f1f1;\n",
              "}\n",
              "#T_3c423_row1_col2 {\n",
              "  background-color: #fdb567;\n",
              "  color: #000000;\n",
              "}\n",
              "#T_3c423_row1_col3 {\n",
              "  background-color: #3990ba;\n",
              "  color: #f1f1f1;\n",
              "}\n",
              "#T_3c423_row2_col0, #T_3c423_row2_col1, #T_3c423_row2_col3, #T_3c423_row3_col2 {\n",
              "  background-color: #9e0142;\n",
              "  color: #f1f1f1;\n",
              "}\n",
              "#T_3c423_row3_col0 {\n",
              "  background-color: #378ebb;\n",
              "  color: #f1f1f1;\n",
              "}\n",
              "#T_3c423_row3_col1 {\n",
              "  background-color: #54aead;\n",
              "  color: #f1f1f1;\n",
              "}\n",
              "</style>\n",
              "<table id=\"T_3c423\" class=\"dataframe\">\n",
              "  <thead>\n",
              "    <tr>\n",
              "      <th class=\"blank level0\" >&nbsp;</th>\n",
              "      <th id=\"T_3c423_level0_col0\" class=\"col_heading level0 col0\" >Miles Traveled</th>\n",
              "      <th id=\"T_3c423_level0_col1\" class=\"col_heading level0 col1\" >Number of Deliveries</th>\n",
              "      <th id=\"T_3c423_level0_col2\" class=\"col_heading level0 col2\" >Gas Price</th>\n",
              "      <th id=\"T_3c423_level0_col3\" class=\"col_heading level0 col3\" >Travel Time</th>\n",
              "    </tr>\n",
              "  </thead>\n",
              "  <tbody>\n",
              "    <tr>\n",
              "      <th id=\"T_3c423_level0_row0\" class=\"row_heading level0 row0\" >Miles Traveled</th>\n",
              "      <td id=\"T_3c423_row0_col0\" class=\"data row0 col0\" >1.000000</td>\n",
              "      <td id=\"T_3c423_row0_col1\" class=\"data row0 col1\" >0.955898</td>\n",
              "      <td id=\"T_3c423_row0_col2\" class=\"data row0 col2\" >0.355796</td>\n",
              "      <td id=\"T_3c423_row0_col3\" class=\"data row0 col3\" >0.928179</td>\n",
              "    </tr>\n",
              "    <tr>\n",
              "      <th id=\"T_3c423_level0_row1\" class=\"row_heading level0 row1\" >Number of Deliveries</th>\n",
              "      <td id=\"T_3c423_row1_col0\" class=\"data row1 col0\" >0.955898</td>\n",
              "      <td id=\"T_3c423_row1_col1\" class=\"data row1 col1\" >1.000000</td>\n",
              "      <td id=\"T_3c423_row1_col2\" class=\"data row1 col2\" >0.498242</td>\n",
              "      <td id=\"T_3c423_row1_col3\" class=\"data row1 col3\" >0.916443</td>\n",
              "    </tr>\n",
              "    <tr>\n",
              "      <th id=\"T_3c423_level0_row2\" class=\"row_heading level0 row2\" >Gas Price</th>\n",
              "      <td id=\"T_3c423_row2_col0\" class=\"data row2 col0\" >0.355796</td>\n",
              "      <td id=\"T_3c423_row2_col1\" class=\"data row2 col1\" >0.498242</td>\n",
              "      <td id=\"T_3c423_row2_col2\" class=\"data row2 col2\" >1.000000</td>\n",
              "      <td id=\"T_3c423_row2_col3\" class=\"data row2 col3\" >0.267212</td>\n",
              "    </tr>\n",
              "    <tr>\n",
              "      <th id=\"T_3c423_level0_row3\" class=\"row_heading level0 row3\" >Travel Time</th>\n",
              "      <td id=\"T_3c423_row3_col0\" class=\"data row3 col0\" >0.928179</td>\n",
              "      <td id=\"T_3c423_row3_col1\" class=\"data row3 col1\" >0.916443</td>\n",
              "      <td id=\"T_3c423_row3_col2\" class=\"data row3 col2\" >0.267212</td>\n",
              "      <td id=\"T_3c423_row3_col3\" class=\"data row3 col3\" >1.000000</td>\n",
              "    </tr>\n",
              "  </tbody>\n",
              "</table>\n"
            ]
          },
          "metadata": {},
          "execution_count": 684
        }
      ],
      "source": [
        "# put your answer here\n",
        "correlation = df.corr()\n",
        "correlation.style.background_gradient(cmap='Spectral')"
      ]
    },
    {
      "cell_type": "markdown",
      "source": [
        "15. Create a correlation matrix"
      ],
      "metadata": {
        "id": "OCcEP5K6dRib"
      }
    },
    {
      "cell_type": "code",
      "execution_count": 685,
      "metadata": {
        "id": "L-DI2aktPQSS",
        "colab": {
          "base_uri": "https://localhost:8080/",
          "height": 568
        },
        "outputId": "50b8137e-f7e0-43c0-e265-6e08409ab5c1"
      },
      "outputs": [
        {
          "output_type": "display_data",
          "data": {
            "text/plain": [
              "<Figure size 640x480 with 2 Axes>"
            ],
            "image/png": "[encoded data removed]"
          },
          "metadata": {}
        }
      ],
      "source": [
        "# put your answer here\n",
        "sns.heatmap(correlation, annot=True, vmin=-1, vmax=1, center=0,cmap='Spectral')\n",
        "plt.show()"
      ]
    },
    {
      "cell_type": "markdown",
      "metadata": {
        "id": "yYiArptLfGIV"
      },
      "source": [
        "## Building Different Regression Models"
      ]
    },
    {
      "cell_type": "markdown",
      "metadata": {
        "id": "NJ4wex8RjsK2"
      },
      "source": [
        "### Model 1: Miles Traveled and Travel Time"
      ]
    },
    {
      "cell_type": "markdown",
      "source": [
        "16. Set independent and dependent variables"
      ],
      "metadata": {
        "id": "nl_sTh3Hd74j"
      }
    },
    {
      "cell_type": "code",
      "execution_count": 686,
      "metadata": {
        "id": "hQWfifH-fpKT"
      },
      "outputs": [],
      "source": [
        "# put your answer here\n",
        "X = df[[\"Miles Traveled\", \"Number of Deliveries\",\"Gas Price\"]]\n",
        "X = sm.add_constant(X)\n",
        "y = df[\"Travel Time\"]"
      ]
    },
    {
      "cell_type": "markdown",
      "source": [
        "17. Build and train the model"
      ],
      "metadata": {
        "id": "xErHUNUCeEy5"
      }
    },
    {
      "cell_type": "code",
      "execution_count": 687,
      "metadata": {
        "id": "8Z5ntKuxlYRY",
        "colab": {
          "base_uri": "https://localhost:8080/"
        },
        "outputId": "b4d1fdee-6dc7-4fbe-841a-fe18cd03adc6"
      },
      "outputs": [
        {
          "output_type": "stream",
          "name": "stdout",
          "text": [
            "Intercept: 6.211377663979402\n",
            "Coefficients: [ 0.          0.01412189  0.38315024 -0.60655271]\n"
          ]
        }
      ],
      "source": [
        "# put your answer here\n",
        "mlr_model = LinearRegression()\n",
        "mlr_model.fit(X, y)\n",
        "\n",
        "y_pred = mlr_model.predict(X)\n",
        "print('Intercept:', mlr_model.intercept_)\n",
        "print('Coefficients:', mlr_model.coef_)"
      ]
    },
    {
      "cell_type": "markdown",
      "source": [
        "18. Display the statistical summary"
      ],
      "metadata": {
        "id": "WHoGr0cIeLtw"
      }
    },
    {
      "cell_type": "code",
      "execution_count": 688,
      "metadata": {
        "id": "EfMmKYwghZCl",
        "colab": {
          "base_uri": "https://localhost:8080/",
          "height": 584
        },
        "outputId": "3a11fb56-4764-41d6-e67e-72a9210d4fa3"
      },
      "outputs": [
        {
          "output_type": "stream",
          "name": "stderr",
          "text": [
            "/usr/local/lib/python3.10/dist-packages/scipy/stats/_axis_nan_policy.py:531: UserWarning: kurtosistest only valid for n>=20 ... continuing anyway, n=10\n",
            "  res = hypotest_fun_out(*samples, **kwds)\n"
          ]
        },
        {
          "output_type": "execute_result",
          "data": {
            "text/plain": [
              "<class 'statsmodels.iolib.summary.Summary'>\n",
              "\"\"\"\n",
              "                            OLS Regression Results                            \n",
              "==============================================================================\n",
              "Dep. Variable:            Travel Time   R-squared:                       0.895\n",
              "Model:                            OLS   Adj. R-squared:                  0.842\n",
              "Method:                 Least Squares   F-statistic:                     16.99\n",
              "Date:                Fri, 06 Sep 2024   Prob (F-statistic):            0.00245\n",
              "Time:                        09:30:27   Log-Likelihood:               -0.98426\n",
              "No. Observations:                  10   AIC:                             9.969\n",
              "Df Residuals:                       6   BIC:                             11.18\n",
              "Df Model:                           3                                         \n",
              "Covariance Type:            nonrobust                                         \n",
              "========================================================================================\n",
              "                           coef    std err          t      P>|t|      [0.025      0.975]\n",
              "----------------------------------------------------------------------------------------\n",
              "const                    6.2114      2.321      2.677      0.037       0.533      11.890\n",
              "Miles Traveled           0.0141      0.022      0.636      0.548      -0.040       0.068\n",
              "Number of Deliveries     0.3832      0.300      1.277      0.249      -0.351       1.117\n",
              "Gas Price               -0.6066      0.527     -1.152      0.293      -1.895       0.682\n",
              "==============================================================================\n",
              "Omnibus:                        2.874   Durbin-Watson:                   2.406\n",
              "Prob(Omnibus):                  0.238   Jarque-Bera (JB):                1.204\n",
              "Skew:                           0.457   Prob(JB):                        0.548\n",
              "Kurtosis:                       1.567   Cond. No.                     1.79e+03\n",
              "==============================================================================\n",
              "\n",
              "Notes:\n",
              "[1] Standard Errors assume that the covariance matrix of the errors is correctly specified.\n",
              "[2] The condition number is large, 1.79e+03. This might indicate that there are\n",
              "strong multicollinearity or other numerical problems.\n",
              "\"\"\""
            ],
            "text/html": [
              "<table class=\"simpletable\">\n",
              "<caption>OLS Regression Results</caption>\n",
              "<tr>\n",
              "  <th>Dep. Variable:</th>       <td>Travel Time</td>   <th>  R-squared:         </th> <td>   0.895</td>\n",
              "</tr>\n",
              "<tr>\n",
              "  <th>Model:</th>                   <td>OLS</td>       <th>  Adj. R-squared:    </th> <td>   0.842</td>\n",
              "</tr>\n",
              "<tr>\n",
              "  <th>Method:</th>             <td>Least Squares</td>  <th>  F-statistic:       </th> <td>   16.99</td>\n",
              "</tr>\n",
              "<tr>\n",
              "  <th>Date:</th>             <td>Fri, 06 Sep 2024</td> <th>  Prob (F-statistic):</th>  <td>0.00245</td>\n",
              "</tr>\n",
              "<tr>\n",
              "  <th>Time:</th>                 <td>09:30:27</td>     <th>  Log-Likelihood:    </th> <td>-0.98426</td>\n",
              "</tr>\n",
              "<tr>\n",
              "  <th>No. Observations:</th>      <td>    10</td>      <th>  AIC:               </th> <td>   9.969</td>\n",
              "</tr>\n",
              "<tr>\n",
              "  <th>Df Residuals:</th>          <td>     6</td>      <th>  BIC:               </th> <td>   11.18</td>\n",
              "</tr>\n",
              "<tr>\n",
              "  <th>Df Model:</th>              <td>     3</td>      <th>                     </th>     <td> </td>   \n",
              "</tr>\n",
              "<tr>\n",
              "  <th>Covariance Type:</th>      <td>nonrobust</td>    <th>                     </th>     <td> </td>   \n",
              "</tr>\n",
              "</table>\n",
              "<table class=\"simpletable\">\n",
              "<tr>\n",
              "            <td></td>              <th>coef</th>     <th>std err</th>      <th>t</th>      <th>P>|t|</th>  <th>[0.025</th>    <th>0.975]</th>  \n",
              "</tr>\n",
              "<tr>\n",
              "  <th>const</th>                <td>    6.2114</td> <td>    2.321</td> <td>    2.677</td> <td> 0.037</td> <td>    0.533</td> <td>   11.890</td>\n",
              "</tr>\n",
              "<tr>\n",
              "  <th>Miles Traveled</th>       <td>    0.0141</td> <td>    0.022</td> <td>    0.636</td> <td> 0.548</td> <td>   -0.040</td> <td>    0.068</td>\n",
              "</tr>\n",
              "<tr>\n",
              "  <th>Number of Deliveries</th> <td>    0.3832</td> <td>    0.300</td> <td>    1.277</td> <td> 0.249</td> <td>   -0.351</td> <td>    1.117</td>\n",
              "</tr>\n",
              "<tr>\n",
              "  <th>Gas Price</th>            <td>   -0.6066</td> <td>    0.527</td> <td>   -1.152</td> <td> 0.293</td> <td>   -1.895</td> <td>    0.682</td>\n",
              "</tr>\n",
              "</table>\n",
              "<table class=\"simpletable\">\n",
              "<tr>\n",
              "  <th>Omnibus:</th>       <td> 2.874</td> <th>  Durbin-Watson:     </th> <td>   2.406</td>\n",
              "</tr>\n",
              "<tr>\n",
              "  <th>Prob(Omnibus):</th> <td> 0.238</td> <th>  Jarque-Bera (JB):  </th> <td>   1.204</td>\n",
              "</tr>\n",
              "<tr>\n",
              "  <th>Skew:</th>          <td> 0.457</td> <th>  Prob(JB):          </th> <td>   0.548</td>\n",
              "</tr>\n",
              "<tr>\n",
              "  <th>Kurtosis:</th>      <td> 1.567</td> <th>  Cond. No.          </th> <td>1.79e+03</td>\n",
              "</tr>\n",
              "</table><br/><br/>Notes:<br/>[1] Standard Errors assume that the covariance matrix of the errors is correctly specified.<br/>[2] The condition number is large, 1.79e+03. This might indicate that there are<br/>strong multicollinearity or other numerical problems."
            ],
            "text/latex": "\\begin{center}\n\\begin{tabular}{lclc}\n\\toprule\n\\textbf{Dep. Variable:}       &   Travel Time    & \\textbf{  R-squared:         } &     0.895   \\\\\n\\textbf{Model:}               &       OLS        & \\textbf{  Adj. R-squared:    } &     0.842   \\\\\n\\textbf{Method:}              &  Least Squares   & \\textbf{  F-statistic:       } &     16.99   \\\\\n\\textbf{Date:}                & Fri, 06 Sep 2024 & \\textbf{  Prob (F-statistic):} &  0.00245    \\\\\n\\textbf{Time:}                &     09:30:27     & \\textbf{  Log-Likelihood:    } &  -0.98426   \\\\\n\\textbf{No. Observations:}    &          10      & \\textbf{  AIC:               } &     9.969   \\\\\n\\textbf{Df Residuals:}        &           6      & \\textbf{  BIC:               } &     11.18   \\\\\n\\textbf{Df Model:}            &           3      & \\textbf{                     } &             \\\\\n\\textbf{Covariance Type:}     &    nonrobust     & \\textbf{                     } &             \\\\\n\\bottomrule\n\\end{tabular}\n\\begin{tabular}{lcccccc}\n                              & \\textbf{coef} & \\textbf{std err} & \\textbf{t} & \\textbf{P$> |$t$|$} & \\textbf{[0.025} & \\textbf{0.975]}  \\\\\n\\midrule\n\\textbf{const}                &       6.2114  &        2.321     &     2.677  &         0.037        &        0.533    &       11.890     \\\\\n\\textbf{Miles Traveled}       &       0.0141  &        0.022     &     0.636  &         0.548        &       -0.040    &        0.068     \\\\\n\\textbf{Number of Deliveries} &       0.3832  &        0.300     &     1.277  &         0.249        &       -0.351    &        1.117     \\\\\n\\textbf{Gas Price}            &      -0.6066  &        0.527     &    -1.152  &         0.293        &       -1.895    &        0.682     \\\\\n\\bottomrule\n\\end{tabular}\n\\begin{tabular}{lclc}\n\\textbf{Omnibus:}       &  2.874 & \\textbf{  Durbin-Watson:     } &    2.406  \\\\\n\\textbf{Prob(Omnibus):} &  0.238 & \\textbf{  Jarque-Bera (JB):  } &    1.204  \\\\\n\\textbf{Skew:}          &  0.457 & \\textbf{  Prob(JB):          } &    0.548  \\\\\n\\textbf{Kurtosis:}      &  1.567 & \\textbf{  Cond. No.          } & 1.79e+03  \\\\\n\\bottomrule\n\\end{tabular}\n%\\caption{OLS Regression Results}\n\\end{center}\n\nNotes: \\newline\n [1] Standard Errors assume that the covariance matrix of the errors is correctly specified. \\newline\n [2] The condition number is large, 1.79e+03. This might indicate that there are \\newline\n strong multicollinearity or other numerical problems."
          },
          "metadata": {},
          "execution_count": 688
        }
      ],
      "source": [
        "# put your answer here\n",
        "olsmod = sm.OLS(y, X).fit()\n",
        "olsmod.summary()"
      ]
    },
    {
      "cell_type": "markdown",
      "source": [
        "19. Display the r-squared"
      ],
      "metadata": {
        "id": "EdZyEf3qh4QP"
      }
    },
    {
      "cell_type": "code",
      "execution_count": 689,
      "metadata": {
        "id": "sZ8sTmV8hv3P",
        "colab": {
          "base_uri": "https://localhost:8080/"
        },
        "outputId": "6a697815-29d5-46ee-95c9-a4aa746e54c0"
      },
      "outputs": [
        {
          "output_type": "stream",
          "name": "stdout",
          "text": [
            "0.8946842692569462\n"
          ]
        }
      ],
      "source": [
        "# put your answer here\n",
        "print(olsmod.rsquared)"
      ]
    }
  ],
  "metadata": {
    "colab": {
      "provenance": [],
      "include_colab_link": true
    },
    "kernelspec": {
      "display_name": "Python 3",
      "name": "python3"
    },
    "language_info": {
      "name": "python"
    }
  },
  "nbformat": 4,
  "nbformat_minor": 0
}