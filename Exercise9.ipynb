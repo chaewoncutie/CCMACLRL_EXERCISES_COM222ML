{
  "cells": [
    {
      "cell_type": "markdown",
      "metadata": {
        "id": "view-in-github",
        "colab_type": "text"
      },
      "source": [
        "<a href=\"https://colab.research.google.com/github/chaewoncutie/CCMACLRL_EXERCISES_COM222ML/blob/main/Exercise9.ipynb\" target=\"_parent\"><img src=\"https://colab.research.google.com/assets/colab-badge.svg\" alt=\"Open In Colab\"/></a>"
      ]
    },
    {
      "cell_type": "markdown",
      "source": [
        "## Exercise 9: Choosing the best performing model on a dataset\n",
        "\n",
        "Instructions:\n",
        "\n",
        "- Use the Dataset File to train your model\n",
        "- Use the Test File to generate your results\n",
        "- Use the Sample Submission file to generate the same format\n",
        "- Use all classification models\n",
        "\n",
        "Submit your results to:\n",
        "https://www.kaggle.com/competitions/playground-series-s4e10/overview\n",
        "\n"
      ],
      "metadata": {
        "id": "99_2rPCJrNfK"
      }
    },
    {
      "cell_type": "code",
      "execution_count": 160,
      "metadata": {
        "id": "R_se3V8gftVL"
      },
      "outputs": [],
      "source": [
        "import pandas as pd\n",
        "import seaborn as sns\n",
        "from matplotlib import pyplot as plt\n",
        "from sklearn.neighbors import KNeighborsClassifier\n",
        "from sklearn.linear_model import LogisticRegression\n",
        "from sklearn.svm import SVC\n",
        "from sklearn.naive_bayes import GaussianNB\n",
        "from sklearn.tree import DecisionTreeClassifier\n",
        "from sklearn.ensemble import RandomForestClassifier\n",
        "from sklearn.model_selection import train_test_split, cross_val_score\n",
        "from sklearn.preprocessing import LabelEncoder, StandardScaler\n",
        "from sklearn.metrics import accuracy_score"
      ]
    },
    {
      "cell_type": "markdown",
      "metadata": {
        "id": "eCNNEXIhftVN"
      },
      "source": [
        "## Dataset File"
      ]
    },
    {
      "cell_type": "code",
      "execution_count": 161,
      "metadata": {
        "id": "-Cqj3uEkftVO"
      },
      "outputs": [],
      "source": [
        "dataset_url = 'https://github.com/robitussin/CCMACLRL_EXERCISES/blob/main/datasets/loan_approval/train.csv?raw=true'\n",
        "df = pd.read_csv(dataset_url)"
      ]
    },
    {
      "cell_type": "markdown",
      "metadata": {
        "id": "mLFiGySNftVP"
      },
      "source": [
        "## Test File"
      ]
    },
    {
      "cell_type": "code",
      "execution_count": 162,
      "metadata": {
        "id": "7pKmP53fftVP"
      },
      "outputs": [],
      "source": [
        "test_url = 'https://github.com/robitussin/CCMACLRL_EXERCISES/blob/main/datasets/loan_approval/test.csv?raw=true'\n",
        "dt=pd.read_csv(test_url)"
      ]
    },
    {
      "cell_type": "code",
      "source": [
        "dt.info()"
      ],
      "metadata": {
        "colab": {
          "base_uri": "https://localhost:8080/"
        },
        "id": "2f11HsMzqEvJ",
        "outputId": "c9e0aaa5-0aa5-4fe2-8e49-b8835481bf55"
      },
      "execution_count": 163,
      "outputs": [
        {
          "output_type": "stream",
          "name": "stdout",
          "text": [
            "<class 'pandas.core.frame.DataFrame'>\n",
            "RangeIndex: 39098 entries, 0 to 39097\n",
            "Data columns (total 12 columns):\n",
            " #   Column                      Non-Null Count  Dtype  \n",
            "---  ------                      --------------  -----  \n",
            " 0   id                          39098 non-null  int64  \n",
            " 1   person_age                  39098 non-null  int64  \n",
            " 2   person_income               39098 non-null  int64  \n",
            " 3   person_home_ownership       39098 non-null  object \n",
            " 4   person_emp_length           39098 non-null  float64\n",
            " 5   loan_intent                 39098 non-null  object \n",
            " 6   loan_grade                  39098 non-null  object \n",
            " 7   loan_amnt                   39098 non-null  int64  \n",
            " 8   loan_int_rate               39098 non-null  float64\n",
            " 9   loan_percent_income         39098 non-null  float64\n",
            " 10  cb_person_default_on_file   39098 non-null  object \n",
            " 11  cb_person_cred_hist_length  39098 non-null  int64  \n",
            "dtypes: float64(3), int64(5), object(4)\n",
            "memory usage: 3.6+ MB\n"
          ]
        }
      ]
    },
    {
      "cell_type": "markdown",
      "metadata": {
        "id": "ntGpbsBg8hft"
      },
      "source": [
        "## Sample Submission File"
      ]
    },
    {
      "cell_type": "code",
      "execution_count": 164,
      "metadata": {
        "id": "-5Dwtw_w3U8W"
      },
      "outputs": [],
      "source": [
        "sample_submission_url ='https://github.com/robitussin/CCMACLRL_EXERCISES/blob/main/datasets/loan_approval/sample_submission.csv?raw=true'\n",
        "\n",
        "sf=pd.read_csv(sample_submission_url)"
      ]
    },
    {
      "cell_type": "code",
      "source": [
        "sf.info()"
      ],
      "metadata": {
        "colab": {
          "base_uri": "https://localhost:8080/"
        },
        "id": "K1_62qZBqLjV",
        "outputId": "4854d273-71f1-4d41-b8aa-24717be3e872"
      },
      "execution_count": 165,
      "outputs": [
        {
          "output_type": "stream",
          "name": "stdout",
          "text": [
            "<class 'pandas.core.frame.DataFrame'>\n",
            "RangeIndex: 39098 entries, 0 to 39097\n",
            "Data columns (total 2 columns):\n",
            " #   Column       Non-Null Count  Dtype  \n",
            "---  ------       --------------  -----  \n",
            " 0   id           39098 non-null  int64  \n",
            " 1   loan_status  39098 non-null  float64\n",
            "dtypes: float64(1), int64(1)\n",
            "memory usage: 611.0 KB\n"
          ]
        }
      ]
    },
    {
      "cell_type": "markdown",
      "source": [],
      "metadata": {
        "id": "7nNjd6aErISr"
      }
    },
    {
      "cell_type": "code",
      "source": [
        "print(df.info())\n",
        "print(dt.info())"
      ],
      "metadata": {
        "colab": {
          "base_uri": "https://localhost:8080/"
        },
        "id": "dRpvp3drDuf_",
        "outputId": "f1d14a0c-cea9-4eee-a2ba-c089832ac4f7"
      },
      "execution_count": 166,
      "outputs": [
        {
          "output_type": "stream",
          "name": "stdout",
          "text": [
            "<class 'pandas.core.frame.DataFrame'>\n",
            "RangeIndex: 58645 entries, 0 to 58644\n",
            "Data columns (total 13 columns):\n",
            " #   Column                      Non-Null Count  Dtype  \n",
            "---  ------                      --------------  -----  \n",
            " 0   id                          58645 non-null  int64  \n",
            " 1   person_age                  58645 non-null  int64  \n",
            " 2   person_income               58645 non-null  int64  \n",
            " 3   person_home_ownership       58645 non-null  object \n",
            " 4   person_emp_length           58645 non-null  float64\n",
            " 5   loan_intent                 58645 non-null  object \n",
            " 6   loan_grade                  58645 non-null  object \n",
            " 7   loan_amnt                   58645 non-null  int64  \n",
            " 8   loan_int_rate               58645 non-null  float64\n",
            " 9   loan_percent_income         58645 non-null  float64\n",
            " 10  cb_person_default_on_file   58645 non-null  object \n",
            " 11  cb_person_cred_hist_length  58645 non-null  int64  \n",
            " 12  loan_status                 58645 non-null  int64  \n",
            "dtypes: float64(3), int64(6), object(4)\n",
            "memory usage: 5.8+ MB\n",
            "None\n",
            "<class 'pandas.core.frame.DataFrame'>\n",
            "RangeIndex: 39098 entries, 0 to 39097\n",
            "Data columns (total 12 columns):\n",
            " #   Column                      Non-Null Count  Dtype  \n",
            "---  ------                      --------------  -----  \n",
            " 0   id                          39098 non-null  int64  \n",
            " 1   person_age                  39098 non-null  int64  \n",
            " 2   person_income               39098 non-null  int64  \n",
            " 3   person_home_ownership       39098 non-null  object \n",
            " 4   person_emp_length           39098 non-null  float64\n",
            " 5   loan_intent                 39098 non-null  object \n",
            " 6   loan_grade                  39098 non-null  object \n",
            " 7   loan_amnt                   39098 non-null  int64  \n",
            " 8   loan_int_rate               39098 non-null  float64\n",
            " 9   loan_percent_income         39098 non-null  float64\n",
            " 10  cb_person_default_on_file   39098 non-null  object \n",
            " 11  cb_person_cred_hist_length  39098 non-null  int64  \n",
            "dtypes: float64(3), int64(5), object(4)\n",
            "memory usage: 3.6+ MB\n",
            "None\n"
          ]
        }
      ]
    },
    {
      "cell_type": "code",
      "source": [
        "X = df.drop(columns=['loan_status'])\n",
        "y = df['loan_status']"
      ],
      "metadata": {
        "id": "U5DQtnFc6jcR"
      },
      "execution_count": 167,
      "outputs": []
    },
    {
      "cell_type": "code",
      "source": [
        "label_encoder = LabelEncoder()\n",
        "\n",
        "ordinal_cols = ['id']\n",
        "for col in ordinal_cols:\n",
        "    X[col] = label_encoder.fit_transform(X[col])\n",
        "\n",
        "X = pd.get_dummies(X, drop_first=True)\n",
        "\n",
        "X_train, X_val, y_train, y_val = train_test_split(X, y, test_size=0.2, random_state=42)\n",
        "\n",
        "scaler = StandardScaler()\n",
        "X_train_scaled = scaler.fit_transform(X_train)\n",
        "X_val_scaled = scaler.transform(X_val)\n",
        "\n",
        "dt = pd.get_dummies(dt, drop_first=True)\n",
        "\n",
        "dt = dt.reindex(columns=X.columns, fill_value=0)\n",
        "\n",
        "X_test_scaled = scaler.transform(dt)"
      ],
      "metadata": {
        "id": "GEUq2zEFDyK_"
      },
      "execution_count": 168,
      "outputs": []
    },
    {
      "cell_type": "markdown",
      "source": [
        "## 1. Train a KNN Classifier"
      ],
      "metadata": {
        "id": "19dHs7ZprqHd"
      }
    },
    {
      "cell_type": "code",
      "source": [
        "# put your answer here\n",
        "knn_classifier = KNeighborsClassifier(n_neighbors=22)\n",
        "knn_classifier.fit(X_train_scaled, y_train)\n",
        "\n",
        "y_pred_knn = knn_classifier.predict(X_val_scaled)\n",
        "\n",
        "accuracy_knn = accuracy_score(y_val, y_pred_knn)\n",
        "print(f\"Accuracy (KNN): {accuracy_knn}\")"
      ],
      "metadata": {
        "id": "sfo3q7hjru-k",
        "colab": {
          "base_uri": "https://localhost:8080/"
        },
        "outputId": "0f3fd718-55ee-4a41-945e-d7a61b18f4a4"
      },
      "execution_count": 169,
      "outputs": [
        {
          "output_type": "stream",
          "name": "stdout",
          "text": [
            "Accuracy (KNN): 0.9297467814817972\n"
          ]
        }
      ]
    },
    {
      "cell_type": "markdown",
      "source": [
        "- Perform cross validation"
      ],
      "metadata": {
        "id": "lqPzPhIs0zjf"
      }
    },
    {
      "cell_type": "code",
      "source": [
        "# put your answer here\n",
        "cv_scores_knn = cross_val_score(knn_classifier, X_train_scaled, y_train, cv=5)\n",
        "print(\"Cross-validation scores (KNN):\", cv_scores_knn)\n",
        "print(\"Mean cross-validation score (KNN):\", cv_scores_knn.mean())"
      ],
      "metadata": {
        "id": "Xz-BV38o04PL",
        "colab": {
          "base_uri": "https://localhost:8080/"
        },
        "outputId": "4977e7ac-f4a5-468e-b7b4-3eaa3f08c73f"
      },
      "execution_count": 170,
      "outputs": [
        {
          "output_type": "stream",
          "name": "stdout",
          "text": [
            "Cross-validation scores (KNN): [0.92497869 0.92358521 0.92784824 0.92678248 0.92784824]\n",
            "Mean cross-validation score (KNN): 0.9262085691423397\n"
          ]
        }
      ]
    },
    {
      "cell_type": "markdown",
      "source": [
        "## 2. Train a Logistic Regression Classifier"
      ],
      "metadata": {
        "id": "9iQFaBrfzNmM"
      }
    },
    {
      "cell_type": "code",
      "source": [
        "# put your answer here\n",
        "logreg = LogisticRegression(max_iter=200)\n",
        "logreg.fit(X_train_scaled, y_train)\n",
        "y_pred_logreg = logreg.predict(X_val_scaled)\n",
        "\n",
        "accuracy_logreg = accuracy_score(y_val, y_pred_logreg)\n",
        "print(f\"Accuracy (Logistic Regression): {accuracy_logreg}\")"
      ],
      "metadata": {
        "id": "LaiPKRnRzN3P",
        "colab": {
          "base_uri": "https://localhost:8080/"
        },
        "outputId": "efb21b60-8342-485b-92d8-c4e98896d4b9"
      },
      "execution_count": 171,
      "outputs": [
        {
          "output_type": "stream",
          "name": "stdout",
          "text": [
            "Accuracy (Logistic Regression): 0.9124392531332595\n"
          ]
        }
      ]
    },
    {
      "cell_type": "markdown",
      "source": [
        "- Perform cross validation"
      ],
      "metadata": {
        "id": "sj2wlK-4044w"
      }
    },
    {
      "cell_type": "code",
      "source": [
        "# put your answer here\n",
        "cv_scores_logreg = cross_val_score(logreg, X_train_scaled, y_train, cv=5)\n",
        "print(\"Cross-validation scores (Logistic Regression):\", cv_scores_logreg)\n",
        "print(\"Mean cross-validation score (Logistic Regression):\", cv_scores_logreg.mean())"
      ],
      "metadata": {
        "id": "LaPPbhEb0740",
        "colab": {
          "base_uri": "https://localhost:8080/"
        },
        "outputId": "75263fa4-de33-40cb-9dc8-1629abd2d8d7"
      },
      "execution_count": 172,
      "outputs": [
        {
          "output_type": "stream",
          "name": "stdout",
          "text": [
            "Cross-validation scores (Logistic Regression): [0.9105925  0.91036982 0.91740382 0.91218161 0.91005009]\n",
            "Mean cross-validation score (Logistic Regression): 0.9121195653309631\n"
          ]
        }
      ]
    },
    {
      "cell_type": "markdown",
      "source": [
        "## 3. Train a Naive Bayes Classifier"
      ],
      "metadata": {
        "id": "MK7R5QHszVir"
      }
    },
    {
      "cell_type": "code",
      "source": [
        "# put your answer here\n",
        "nb_classifier = GaussianNB()\n",
        "nb_classifier.fit(X_train_scaled, y_train)\n",
        "y_pred_nb = nb_classifier.predict(X_val_scaled)\n",
        "\n",
        "accuracy_nb = accuracy_score(y_val, y_pred_nb)\n",
        "print(f\"Accuracy (Naive Bayes): {accuracy_nb}\")"
      ],
      "metadata": {
        "id": "wh3rW-_SzV1a",
        "colab": {
          "base_uri": "https://localhost:8080/"
        },
        "outputId": "b4750185-c5a8-4696-fa63-4e4b296cb4a4"
      },
      "execution_count": 173,
      "outputs": [
        {
          "output_type": "stream",
          "name": "stdout",
          "text": [
            "Accuracy (Naive Bayes): 0.89231818569358\n"
          ]
        }
      ]
    },
    {
      "cell_type": "markdown",
      "source": [
        "- Perform cross validation"
      ],
      "metadata": {
        "id": "r1s7wlRE0-6r"
      }
    },
    {
      "cell_type": "code",
      "source": [
        "# put your answer here\n",
        "cv_scores_nb = cross_val_score(nb_classifier, X_train_scaled, y_train, cv=5)\n",
        "print(\"Cross-validation scores (Naive Bayes):\", cv_scores_nb)\n",
        "print(\"Mean cross-validation score (Naive Bayes):\", cv_scores_nb.mean())"
      ],
      "metadata": {
        "id": "Czj8xzAa0_Nt",
        "colab": {
          "base_uri": "https://localhost:8080/"
        },
        "outputId": "14305382-301d-44d1-c482-09c8324012f3"
      },
      "execution_count": 174,
      "outputs": [
        {
          "output_type": "stream",
          "name": "stdout",
          "text": [
            "Cross-validation scores (Naive Bayes): [0.8902387  0.89065331 0.89278482 0.89107961 0.88841522]\n",
            "Mean cross-validation score (Naive Bayes): 0.8906343336096306\n"
          ]
        }
      ]
    },
    {
      "cell_type": "markdown",
      "source": [
        "## 4. Train a SVM Classifier"
      ],
      "metadata": {
        "id": "GlMLKDF_rvUM"
      }
    },
    {
      "cell_type": "code",
      "source": [
        "# put your answer here\n",
        "svm_classifier = SVC()\n",
        "svm_classifier.fit(X_train_scaled, y_train)\n",
        "y_pred_svm = svm_classifier.predict(X_val_scaled)\n",
        "\n",
        "accuracy_svm = accuracy_score(y_val, y_pred_svm)\n",
        "print(f\"Accuracy (SVM): {accuracy_svm}\")"
      ],
      "metadata": {
        "id": "0MJX8VBysFxR",
        "colab": {
          "base_uri": "https://localhost:8080/"
        },
        "outputId": "6d8c3ef2-4169-4805-b799-e35a0b678a13"
      },
      "execution_count": 175,
      "outputs": [
        {
          "output_type": "stream",
          "name": "stdout",
          "text": [
            "Accuracy (SVM): 0.9433029243754796\n"
          ]
        }
      ]
    },
    {
      "cell_type": "markdown",
      "source": [
        "- Perform cross validation"
      ],
      "metadata": {
        "id": "-wzEMe9J1DSe"
      }
    },
    {
      "cell_type": "code",
      "source": [
        "# put your answer here\n",
        "cv_scores_svm = cross_val_score(svm_classifier, X_train_scaled, y_train, cv=5)\n",
        "print(\"Cross-validation scores (SVM):\", cv_scores_svm)\n",
        "print(\"Mean cross-validation score (SVM):\", cv_scores_svm.mean())"
      ],
      "metadata": {
        "id": "dPJlm2S-1Dqe",
        "colab": {
          "base_uri": "https://localhost:8080/"
        },
        "outputId": "c45a085f-a530-4c88-bdd0-711c5b4f9f77"
      },
      "execution_count": 176,
      "outputs": [
        {
          "output_type": "stream",
          "name": "stdout",
          "text": [
            "Cross-validation scores (SVM): [0.93819267 0.93520196 0.94308856 0.94244911 0.93861238]\n",
            "Mean cross-validation score (SVM): 0.9395089375963259\n"
          ]
        }
      ]
    },
    {
      "cell_type": "markdown",
      "source": [
        "## 5. Train a Decision Tree Classifier"
      ],
      "metadata": {
        "id": "8n-ScOLqze60"
      }
    },
    {
      "cell_type": "code",
      "source": [
        "# put your answer here\n",
        "df_classifier = DecisionTreeClassifier(max_depth=5, random_state=42)\n",
        "df_classifier.fit(X_train_scaled, y_train)\n",
        "y_pred_df = df_classifier.predict(X_val_scaled)\n",
        "\n",
        "accuracy_df = accuracy_score(y_val, y_pred_df)\n",
        "print(f\"Accuracy (Decision Tree): {accuracy_df}\")"
      ],
      "metadata": {
        "id": "fqLNJkoHzfL4",
        "colab": {
          "base_uri": "https://localhost:8080/"
        },
        "outputId": "f54fc8e9-66cf-4303-abd4-a5a861a8e87b"
      },
      "execution_count": 177,
      "outputs": [
        {
          "output_type": "stream",
          "name": "stdout",
          "text": [
            "Accuracy (Decision Tree): 0.9367379998294825\n"
          ]
        }
      ]
    },
    {
      "cell_type": "markdown",
      "source": [
        "- Perform cross validation"
      ],
      "metadata": {
        "id": "5dkFpQ2j1GUO"
      }
    },
    {
      "cell_type": "code",
      "source": [
        "# put your answer here\n",
        "cv_scores_df = cross_val_score(df_classifier, X_train_scaled, y_train, cv=5)\n",
        "print(\"Cross-validation scores (Decision Tree):\", cv_scores_df)\n",
        "print(\"Mean cross-validation score (Decision Tree):\", cv_scores_df.mean())"
      ],
      "metadata": {
        "id": "hOXY4nc71Gk5",
        "colab": {
          "base_uri": "https://localhost:8080/"
        },
        "outputId": "cc3a0eb8-640b-4616-edc2-6e63c19a4bfd"
      },
      "execution_count": 178,
      "outputs": [
        {
          "output_type": "stream",
          "name": "stdout",
          "text": [
            "Cross-validation scores (Decision Tree): [0.93648764 0.93712032 0.94106363 0.93914526 0.93424278]\n",
            "Mean cross-validation score (Decision Tree): 0.9376119260867839\n"
          ]
        }
      ]
    },
    {
      "cell_type": "markdown",
      "source": [
        "## 6. Train a Random Forest Classifier"
      ],
      "metadata": {
        "id": "MkJ6eVbNsBay"
      }
    },
    {
      "cell_type": "code",
      "source": [
        "# put your answer here\n",
        "rf_classifier = RandomForestClassifier(n_estimators=100, random_state=42)\n",
        "rf_classifier.fit(X_train_scaled, y_train)\n",
        "y_pred_rf = rf_classifier.predict(X_val_scaled)\n",
        "\n",
        "accuracy_rf = accuracy_score(y_val, y_pred_rf)\n",
        "print(f\"Accuracy (Random Forest): {accuracy_rf}\")"
      ],
      "metadata": {
        "id": "w_LoDOYHsGo2",
        "colab": {
          "base_uri": "https://localhost:8080/"
        },
        "outputId": "f34a0773-b9ee-417e-e858-8026a3bd1f29"
      },
      "execution_count": 179,
      "outputs": [
        {
          "output_type": "stream",
          "name": "stdout",
          "text": [
            "Accuracy (Random Forest): 0.9510614715662035\n"
          ]
        }
      ]
    },
    {
      "cell_type": "code",
      "source": [
        "cv_scores_rf = cross_val_score(rf_classifier, X_train_scaled, y_train, cv=5)\n",
        "print(\"Cross-validation scores (Random Forest):\", cv_scores_rf)\n",
        "print(\"Mean cross-validation score (Random Forest):\", cv_scores_rf.mean())"
      ],
      "metadata": {
        "colab": {
          "base_uri": "https://localhost:8080/"
        },
        "id": "wEQBrA8V7c7X",
        "outputId": "8d801d64-b59c-4221-8eb4-23733759bb92"
      },
      "execution_count": 180,
      "outputs": [
        {
          "output_type": "stream",
          "name": "stdout",
          "text": [
            "Cross-validation scores (Random Forest): [0.94789003 0.94628584 0.95150805 0.95182777 0.94617926]\n",
            "Mean cross-validation score (Random Forest): 0.9487381884253315\n"
          ]
        }
      ]
    },
    {
      "cell_type": "markdown",
      "source": [
        "## 7. Compare all the performance of all classification models"
      ],
      "metadata": {
        "id": "3orhk-Vf0Jg-"
      }
    },
    {
      "cell_type": "code",
      "source": [
        "# put your answer here\n",
        "results = {\n",
        "    'KNN': (accuracy_knn, cv_scores_knn.mean()),\n",
        "    'Logistic Regression': (accuracy_logreg, cv_scores_logreg.mean()),\n",
        "    'Naive Bayes': (accuracy_nb, cv_scores_nb.mean()),\n",
        "    'SVM': (accuracy_svm, cv_scores_svm.mean()),\n",
        "    'Decision Tree': (accuracy_df, cv_scores_df.mean()),\n",
        "    'Random Forest': (accuracy_rf, cv_scores_rf.mean())\n",
        "}\n",
        "\n",
        "print(f\"{'Model':<20} {'Accuracy':<10} {'CV Score':<10}\")\n",
        "print(\"-\" * 40)\n",
        "for model, (accuracy, cv_score) in results.items():\n",
        "    print(f\"{model:<20} {accuracy:<10.4f} {cv_score:<10.4f}\")"
      ],
      "metadata": {
        "id": "r5FUkgck0VY8",
        "colab": {
          "base_uri": "https://localhost:8080/"
        },
        "outputId": "6c339859-6aa2-4f35-8bda-8589b09a15e5"
      },
      "execution_count": 181,
      "outputs": [
        {
          "output_type": "stream",
          "name": "stdout",
          "text": [
            "Model                Accuracy   CV Score  \n",
            "----------------------------------------\n",
            "KNN                  0.9297     0.9262    \n",
            "Logistic Regression  0.9124     0.9121    \n",
            "Naive Bayes          0.8923     0.8906    \n",
            "SVM                  0.9433     0.9395    \n",
            "Decision Tree        0.9367     0.9376    \n",
            "Random Forest        0.9511     0.9487    \n"
          ]
        }
      ]
    },
    {
      "cell_type": "markdown",
      "source": [
        "## 9. Generate Submission File\n",
        "\n",
        "Choose the model that has the best performance to generate a submission file."
      ],
      "metadata": {
        "id": "a6UAAMyepmHi"
      }
    },
    {
      "cell_type": "code",
      "source": [
        "df.info()"
      ],
      "metadata": {
        "colab": {
          "base_uri": "https://localhost:8080/"
        },
        "id": "Lw53bnO5CcdY",
        "outputId": "8dfc2a2c-bbde-490e-cf23-750bb8cf80ed"
      },
      "execution_count": 182,
      "outputs": [
        {
          "output_type": "stream",
          "name": "stdout",
          "text": [
            "<class 'pandas.core.frame.DataFrame'>\n",
            "RangeIndex: 58645 entries, 0 to 58644\n",
            "Data columns (total 13 columns):\n",
            " #   Column                      Non-Null Count  Dtype  \n",
            "---  ------                      --------------  -----  \n",
            " 0   id                          58645 non-null  int64  \n",
            " 1   person_age                  58645 non-null  int64  \n",
            " 2   person_income               58645 non-null  int64  \n",
            " 3   person_home_ownership       58645 non-null  object \n",
            " 4   person_emp_length           58645 non-null  float64\n",
            " 5   loan_intent                 58645 non-null  object \n",
            " 6   loan_grade                  58645 non-null  object \n",
            " 7   loan_amnt                   58645 non-null  int64  \n",
            " 8   loan_int_rate               58645 non-null  float64\n",
            " 9   loan_percent_income         58645 non-null  float64\n",
            " 10  cb_person_default_on_file   58645 non-null  object \n",
            " 11  cb_person_cred_hist_length  58645 non-null  int64  \n",
            " 12  loan_status                 58645 non-null  int64  \n",
            "dtypes: float64(3), int64(6), object(4)\n",
            "memory usage: 5.8+ MB\n"
          ]
        }
      ]
    },
    {
      "cell_type": "code",
      "source": [
        "dt.info()"
      ],
      "metadata": {
        "colab": {
          "base_uri": "https://localhost:8080/"
        },
        "id": "fGcXI5-ACdow",
        "outputId": "15c06167-0661-43cc-cd98-20a8da428e2d"
      },
      "execution_count": 183,
      "outputs": [
        {
          "output_type": "stream",
          "name": "stdout",
          "text": [
            "<class 'pandas.core.frame.DataFrame'>\n",
            "RangeIndex: 39098 entries, 0 to 39097\n",
            "Data columns (total 23 columns):\n",
            " #   Column                       Non-Null Count  Dtype  \n",
            "---  ------                       --------------  -----  \n",
            " 0   id                           39098 non-null  int64  \n",
            " 1   person_age                   39098 non-null  int64  \n",
            " 2   person_income                39098 non-null  int64  \n",
            " 3   person_emp_length            39098 non-null  float64\n",
            " 4   loan_amnt                    39098 non-null  int64  \n",
            " 5   loan_int_rate                39098 non-null  float64\n",
            " 6   loan_percent_income          39098 non-null  float64\n",
            " 7   cb_person_cred_hist_length   39098 non-null  int64  \n",
            " 8   person_home_ownership_OTHER  39098 non-null  bool   \n",
            " 9   person_home_ownership_OWN    39098 non-null  bool   \n",
            " 10  person_home_ownership_RENT   39098 non-null  bool   \n",
            " 11  loan_intent_EDUCATION        39098 non-null  bool   \n",
            " 12  loan_intent_HOMEIMPROVEMENT  39098 non-null  bool   \n",
            " 13  loan_intent_MEDICAL          39098 non-null  bool   \n",
            " 14  loan_intent_PERSONAL         39098 non-null  bool   \n",
            " 15  loan_intent_VENTURE          39098 non-null  bool   \n",
            " 16  loan_grade_B                 39098 non-null  bool   \n",
            " 17  loan_grade_C                 39098 non-null  bool   \n",
            " 18  loan_grade_D                 39098 non-null  bool   \n",
            " 19  loan_grade_E                 39098 non-null  bool   \n",
            " 20  loan_grade_F                 39098 non-null  bool   \n",
            " 21  loan_grade_G                 39098 non-null  bool   \n",
            " 22  cb_person_default_on_file_Y  39098 non-null  bool   \n",
            "dtypes: bool(15), float64(3), int64(5)\n",
            "memory usage: 2.9 MB\n"
          ]
        }
      ]
    },
    {
      "cell_type": "code",
      "source": [
        "y_pred = rf_classifier.predict(dt)\n",
        "\n",
        "if 'id' not in dt.columns:\n",
        "    raise ValueError(\"Test dataset must contain an 'id' column for submission.\")\n",
        "\n",
        "# Create a submission DataFrame\n",
        "submission_df = pd.DataFrame({\n",
        "    'id': dt['id'],\n",
        "    'loan_status': y_pred\n",
        "})\n",
        "\n",
        "# Save the submission DataFrame to a CSV file\n",
        "submission_df.to_csv('submission_file.csv', index=False)\n",
        "print(\"Submission file created: submission_file.csv\")"
      ],
      "metadata": {
        "id": "HrelEEFJpjzI",
        "colab": {
          "base_uri": "https://localhost:8080/"
        },
        "outputId": "189a0b62-3ca8-4ec7-9a60-04c4ec4520ac"
      },
      "execution_count": 184,
      "outputs": [
        {
          "output_type": "stream",
          "name": "stderr",
          "text": [
            "/usr/local/lib/python3.10/dist-packages/sklearn/base.py:486: UserWarning: X has feature names, but RandomForestClassifier was fitted without feature names\n",
            "  warnings.warn(\n"
          ]
        },
        {
          "output_type": "stream",
          "name": "stdout",
          "text": [
            "Submission file created: submission_file.csv\n"
          ]
        }
      ]
    }
  ],
  "metadata": {
    "colab": {
      "provenance": [],
      "collapsed_sections": [
        "eCNNEXIhftVN",
        "mLFiGySNftVP",
        "ntGpbsBg8hft"
      ],
      "include_colab_link": true
    },
    "kernelspec": {
      "display_name": "Python 3",
      "name": "python3"
    },
    "language_info": {
      "name": "python",
      "version": "3.12.4"
    }
  },
  "nbformat": 4,
  "nbformat_minor": 0
}